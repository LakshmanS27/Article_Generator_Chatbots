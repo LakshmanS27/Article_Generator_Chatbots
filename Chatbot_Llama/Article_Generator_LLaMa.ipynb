{
  "cells": [
    {
      "cell_type": "code",
      "source": [
        "!pip install -q streamlit pyngrok langchain llama-cpp-python huggingface_hub langchain-community"
      ],
      "metadata": {
        "id": "Q2b2MDVS9pAc",
        "colab": {
          "base_uri": "https://localhost:8080/"
        },
        "outputId": "31db7447-1435-45d4-eff4-7d4fb69a7e11"
      },
      "execution_count": 1,
      "outputs": [
        {
          "output_type": "stream",
          "name": "stdout",
          "text": [
            "\u001b[2K     \u001b[90m━━━━━━━━━━━━━━━━━━━━━━━━━━━━━━━━━━━━━━━━\u001b[0m \u001b[32m67.9/67.9 MB\u001b[0m \u001b[31m11.2 MB/s\u001b[0m eta \u001b[36m0:00:00\u001b[0m\n",
            "\u001b[?25h  Installing build dependencies ... \u001b[?25l\u001b[?25hdone\n",
            "  Getting requirements to build wheel ... \u001b[?25l\u001b[?25hdone\n",
            "  Installing backend dependencies ... \u001b[?25l\u001b[?25hdone\n",
            "  Preparing metadata (pyproject.toml) ... \u001b[?25l\u001b[?25hdone\n",
            "\u001b[2K     \u001b[90m━━━━━━━━━━━━━━━━━━━━━━━━━━━━━━━━━━━━━━━━\u001b[0m \u001b[32m44.3/44.3 kB\u001b[0m \u001b[31m3.4 MB/s\u001b[0m eta \u001b[36m0:00:00\u001b[0m\n",
            "\u001b[2K   \u001b[90m━━━━━━━━━━━━━━━━━━━━━━━━━━━━━━━━━━━━━━━━\u001b[0m \u001b[32m10.1/10.1 MB\u001b[0m \u001b[31m54.6 MB/s\u001b[0m eta \u001b[36m0:00:00\u001b[0m\n",
            "\u001b[2K   \u001b[90m━━━━━━━━━━━━━━━━━━━━━━━━━━━━━━━━━━━━━━━━\u001b[0m \u001b[32m2.5/2.5 MB\u001b[0m \u001b[31m66.7 MB/s\u001b[0m eta \u001b[36m0:00:00\u001b[0m\n",
            "\u001b[2K   \u001b[90m━━━━━━━━━━━━━━━━━━━━━━━━━━━━━━━━━━━━━━━━\u001b[0m \u001b[32m45.5/45.5 kB\u001b[0m \u001b[31m3.8 MB/s\u001b[0m eta \u001b[36m0:00:00\u001b[0m\n",
            "\u001b[2K   \u001b[90m━━━━━━━━━━━━━━━━━━━━━━━━━━━━━━━━━━━━━━━━\u001b[0m \u001b[32m45.2/45.2 kB\u001b[0m \u001b[31m3.3 MB/s\u001b[0m eta \u001b[36m0:00:00\u001b[0m\n",
            "\u001b[2K   \u001b[90m━━━━━━━━━━━━━━━━━━━━━━━━━━━━━━━━━━━━━━━━\u001b[0m \u001b[32m6.9/6.9 MB\u001b[0m \u001b[31m101.9 MB/s\u001b[0m eta \u001b[36m0:00:00\u001b[0m\n",
            "\u001b[2K   \u001b[90m━━━━━━━━━━━━━━━━━━━━━━━━━━━━━━━━━━━━━━━━\u001b[0m \u001b[32m79.1/79.1 kB\u001b[0m \u001b[31m6.7 MB/s\u001b[0m eta \u001b[36m0:00:00\u001b[0m\n",
            "\u001b[2K   \u001b[90m━━━━━━━━━━━━━━━━━━━━━━━━━━━━━━━━━━━━━━━━\u001b[0m \u001b[32m50.9/50.9 kB\u001b[0m \u001b[31m4.2 MB/s\u001b[0m eta \u001b[36m0:00:00\u001b[0m\n",
            "\u001b[?25h  Building wheel for llama-cpp-python (pyproject.toml) ... \u001b[?25l\u001b[?25hdone\n"
          ]
        }
      ]
    },
    {
      "cell_type": "code",
      "source": [
        "!pip freeze > requirements.txt"
      ],
      "metadata": {
        "id": "ajwDGLcatEAz"
      },
      "execution_count": 2,
      "outputs": []
    },
    {
      "cell_type": "code",
      "source": [
        "from google.colab import files\n",
        "files.download(\"requirements.txt\")"
      ],
      "metadata": {
        "colab": {
          "base_uri": "https://localhost:8080/",
          "height": 17
        },
        "id": "o6Orz2vZtFUe",
        "outputId": "4459eaf4-7006-47f9-e440-584d75eaa233"
      },
      "execution_count": 3,
      "outputs": [
        {
          "output_type": "display_data",
          "data": {
            "text/plain": [
              "<IPython.core.display.Javascript object>"
            ],
            "application/javascript": [
              "\n",
              "    async function download(id, filename, size) {\n",
              "      if (!google.colab.kernel.accessAllowed) {\n",
              "        return;\n",
              "      }\n",
              "      const div = document.createElement('div');\n",
              "      const label = document.createElement('label');\n",
              "      label.textContent = `Downloading \"${filename}\": `;\n",
              "      div.appendChild(label);\n",
              "      const progress = document.createElement('progress');\n",
              "      progress.max = size;\n",
              "      div.appendChild(progress);\n",
              "      document.body.appendChild(div);\n",
              "\n",
              "      const buffers = [];\n",
              "      let downloaded = 0;\n",
              "\n",
              "      const channel = await google.colab.kernel.comms.open(id);\n",
              "      // Send a message to notify the kernel that we're ready.\n",
              "      channel.send({})\n",
              "\n",
              "      for await (const message of channel.messages) {\n",
              "        // Send a message to notify the kernel that we're ready.\n",
              "        channel.send({})\n",
              "        if (message.buffers) {\n",
              "          for (const buffer of message.buffers) {\n",
              "            buffers.push(buffer);\n",
              "            downloaded += buffer.byteLength;\n",
              "            progress.value = downloaded;\n",
              "          }\n",
              "        }\n",
              "      }\n",
              "      const blob = new Blob(buffers, {type: 'application/binary'});\n",
              "      const a = document.createElement('a');\n",
              "      a.href = window.URL.createObjectURL(blob);\n",
              "      a.download = filename;\n",
              "      div.appendChild(a);\n",
              "      a.click();\n",
              "      div.remove();\n",
              "    }\n",
              "  "
            ]
          },
          "metadata": {}
        },
        {
          "output_type": "display_data",
          "data": {
            "text/plain": [
              "<IPython.core.display.Javascript object>"
            ],
            "application/javascript": [
              "download(\"download_8359997b-a638-4ec5-a166-ccd9a20a0a10\", \"requirements.txt\", 13376)"
            ]
          },
          "metadata": {}
        }
      ]
    },
    {
      "cell_type": "code",
      "source": [
        "from huggingface_hub import hf_hub_download\n",
        "\n",
        "# Download the GGUF model (LLaMA 2 7B Chat Q4_K_M)\n",
        "model_path = hf_hub_download(\n",
        "    repo_id=\"TheBloke/Llama-2-7B-Chat-GGUF\",\n",
        "    filename=\"llama-2-7b-chat.Q4_K_M.gguf\"\n",
        ")\n",
        "print(\"✅ Downloaded model to:\", model_path)"
      ],
      "metadata": {
        "id": "_ff6p9bE9prn",
        "colab": {
          "base_uri": "https://localhost:8080/"
        },
        "outputId": "9ebb3efc-c262-4a88-c1a2-07d13d9fd0ea"
      },
      "execution_count": null,
      "outputs": [
        {
          "output_type": "stream",
          "name": "stdout",
          "text": [
            "✅ Downloaded model to: /root/.cache/huggingface/hub/models--TheBloke--Llama-2-7B-Chat-GGUF/snapshots/191239b3e26b2882fb562ffccdd1cf0f65402adb/llama-2-7b-chat.Q4_K_M.gguf\n"
          ]
        }
      ]
    },
    {
      "cell_type": "code",
      "source": [
        "with open(\"llama_helper.py\", \"w\") as f:\n",
        "    f.write(f\"\"\"\\\n",
        "from langchain.llms import LlamaCpp\n",
        "from langchain.prompts import PromptTemplate\n",
        "from langchain.chains import LLMChain\n",
        "\n",
        "llm = LlamaCpp(\n",
        "    model_path=\"{model_path}\",\n",
        "    n_ctx=2048,\n",
        "    temperature=0.7,\n",
        "    n_gpu_layers=-1,  # ✅ Use all GPU layers if available (like T4)\n",
        "    verbose=True,\n",
        ")\n",
        "\n",
        "prompt_template = PromptTemplate(\n",
        "    input_variables=[\"topic\"],\n",
        "    template=\"Generate a well-structured, informative article on the topic:\\\\n\\\\n{{topic}}\\\\n\\\\nArticle:\",\n",
        ")\n",
        "\n",
        "def get_article_chain():\n",
        "    return LLMChain(llm=llm, prompt=prompt_template)\n",
        "\"\"\")\n"
      ],
      "metadata": {
        "id": "wO_6AKr69skd"
      },
      "execution_count": null,
      "outputs": []
    },
    {
      "cell_type": "code",
      "source": [
        "with open(\"llama_helper.py\", \"w\") as f:\n",
        "    f.write(f\"\"\"\\\n",
        "from langchain.llms import LlamaCpp\n",
        "from langchain.prompts import PromptTemplate\n",
        "from langchain.chains import LLMChain\n",
        "\n",
        "llm = LlamaCpp(\n",
        "    model_path=\"{model_path}\",\n",
        "    n_ctx=2048,\n",
        "    temperature=0.7,\n",
        "    n_gpu_layers=-1,  # ✅ Use all GPU layers if available (like T4)\n",
        "    verbose=True,\n",
        ")\n",
        "\n",
        "prompt_template = PromptTemplate(\n",
        "    input_variables=[\"topic\"],\n",
        "    template=\"Generate a well-structured, informative article on the topic:\\\\n\\\\n{{topic}}\\\\n\\\\nArticle:\",\n",
        ")\n",
        "\n",
        "def get_article_chain():\n",
        "    return LLMChain(llm=llm, prompt=prompt_template)\n",
        "\"\"\")\n"
      ],
      "metadata": {
        "id": "JXcp2-Bv9vNv"
      },
      "execution_count": null,
      "outputs": []
    },
    {
      "cell_type": "code",
      "source": [
        "%%writefile main.py\n",
        "import streamlit as st\n",
        "from llama_helper import get_article_chain\n",
        "\n",
        "st.set_page_config(page_title=\"LLaMA Article Generator\", page_icon=\"📚\")\n",
        "st.title(\"📚 LLaMA Article Generator\")\n",
        "\n",
        "topic = st.text_input(\"Enter a topic for article generation:\")\n",
        "\n",
        "if topic:\n",
        "    with st.spinner(\"Generating article...\"):\n",
        "        chain = get_article_chain()\n",
        "        result = chain.run(topic)\n",
        "        st.subheader(\"Generated Article\")\n",
        "        st.write(result)\n"
      ],
      "metadata": {
        "id": "IOYGeCkp9xMS",
        "colab": {
          "base_uri": "https://localhost:8080/"
        },
        "outputId": "b2c2b48a-c030-4309-8781-1ead3353dfda"
      },
      "execution_count": null,
      "outputs": [
        {
          "output_type": "stream",
          "name": "stdout",
          "text": [
            "Overwriting main.py\n"
          ]
        }
      ]
    },
    {
      "cell_type": "code",
      "source": [
        "!pkill -f streamlit || echo \"No Streamlit process to kill\"\n",
        "from pyngrok import ngrok\n",
        "ngrok.kill()\n",
        "\n",
        "NGROK_TOKEN = input(\"Enter your ngrok authtoken: \").strip()\n",
        "os.environ[\"NGROK_AUTHTOKEN\"] = NGROK_TOKEN\n",
        "\n",
        "!ngrok config add-authtoken $NGROK_AUTHTOKEN"
      ],
      "metadata": {
        "id": "gLaYIMEB9z6S",
        "colab": {
          "base_uri": "https://localhost:8080/"
        },
        "outputId": "d9da76ea-e687-4412-f1e8-81d8e9117fed"
      },
      "execution_count": null,
      "outputs": [
        {
          "output_type": "stream",
          "name": "stdout",
          "text": [
            "^C\n",
            "Authtoken saved to configuration file: /root/.config/ngrok/ngrok.yml\n"
          ]
        }
      ]
    },
    {
      "cell_type": "code",
      "source": [
        "from pyngrok import ngrok\n",
        "import threading\n",
        "import os\n",
        "\n",
        "public_url = ngrok.connect(8501)\n",
        "print(f\"🌐 Streamlit app running at: {public_url}\")\n",
        "\n",
        "def run():\n",
        "    os.system(\"streamlit run main.py\")\n",
        "\n",
        "thread = threading.Thread(target=run)\n",
        "thread.start()\n"
      ],
      "metadata": {
        "id": "tyx75OGI91rA",
        "colab": {
          "base_uri": "https://localhost:8080/"
        },
        "outputId": "10a228f9-422d-40ad-b8ff-a8f347416ac7"
      },
      "execution_count": null,
      "outputs": [
        {
          "output_type": "stream",
          "name": "stdout",
          "text": [
            "🌐 Streamlit app running at: NgrokTunnel: \"https://8e5a-34-87-48-117.ngrok-free.app\" -> \"http://localhost:8501\"\n"
          ]
        }
      ]
    }
  ],
  "metadata": {
    "colab": {
      "provenance": [],
      "gpuType": "T4"
    },
    "kernelspec": {
      "display_name": "Python 3",
      "name": "python3"
    },
    "accelerator": "GPU"
  },
  "nbformat": 4,
  "nbformat_minor": 0
}